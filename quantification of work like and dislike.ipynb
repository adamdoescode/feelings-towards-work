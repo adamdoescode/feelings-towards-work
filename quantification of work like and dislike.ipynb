{
 "cells": [
  {
   "cell_type": "code",
   "execution_count": 1,
   "metadata": {},
   "outputs": [],
   "source": [
    "import numpy as np\n",
    "import pandas as pd\n",
    "import matplotlib.pyplot as plt\n",
    "from collections import Counter\n",
    "from datetime import datetime\n",
    "\n",
    "%matplotlib inline"
   ]
  },
  {
   "cell_type": "code",
   "execution_count": 2,
   "metadata": {},
   "outputs": [
    {
     "data": {
      "text/html": [
       "<div>\n",
       "<style scoped>\n",
       "    .dataframe tbody tr th:only-of-type {\n",
       "        vertical-align: middle;\n",
       "    }\n",
       "\n",
       "    .dataframe tbody tr th {\n",
       "        vertical-align: top;\n",
       "    }\n",
       "\n",
       "    .dataframe thead th {\n",
       "        text-align: right;\n",
       "    }\n",
       "</style>\n",
       "<table border=\"1\" class=\"dataframe\">\n",
       "  <thead>\n",
       "    <tr style=\"text-align: right;\">\n",
       "      <th></th>\n",
       "      <th>full_date</th>\n",
       "      <th>date</th>\n",
       "      <th>weekday</th>\n",
       "      <th>time</th>\n",
       "      <th>mood</th>\n",
       "      <th>activities</th>\n",
       "      <th>note</th>\n",
       "    </tr>\n",
       "  </thead>\n",
       "  <tbody>\n",
       "    <tr>\n",
       "      <th>0</th>\n",
       "      <td>2020-04-09</td>\n",
       "      <td>9-Apr</td>\n",
       "      <td>Thursday</td>\n",
       "      <td>7:54</td>\n",
       "      <td>meh</td>\n",
       "      <td>NaN</td>\n",
       "      <td>NaN</td>\n",
       "    </tr>\n",
       "    <tr>\n",
       "      <th>1</th>\n",
       "      <td>2020-04-08</td>\n",
       "      <td>8-Apr</td>\n",
       "      <td>Wednesday</td>\n",
       "      <td>21:04</td>\n",
       "      <td>meh</td>\n",
       "      <td>dislike work</td>\n",
       "      <td>NaN</td>\n",
       "    </tr>\n",
       "    <tr>\n",
       "      <th>2</th>\n",
       "      <td>2020-04-08</td>\n",
       "      <td>8-Apr</td>\n",
       "      <td>Wednesday</td>\n",
       "      <td>7:19</td>\n",
       "      <td>good</td>\n",
       "      <td>neutral work</td>\n",
       "      <td>NaN</td>\n",
       "    </tr>\n",
       "    <tr>\n",
       "      <th>3</th>\n",
       "      <td>2020-04-07</td>\n",
       "      <td>7-Apr</td>\n",
       "      <td>Tuesday</td>\n",
       "      <td>21:25</td>\n",
       "      <td>meh</td>\n",
       "      <td>dislike work</td>\n",
       "      <td>NaN</td>\n",
       "    </tr>\n",
       "    <tr>\n",
       "      <th>4</th>\n",
       "      <td>2020-04-07</td>\n",
       "      <td>7-Apr</td>\n",
       "      <td>Tuesday</td>\n",
       "      <td>7:09</td>\n",
       "      <td>good</td>\n",
       "      <td>NaN</td>\n",
       "      <td>NaN</td>\n",
       "    </tr>\n",
       "    <tr>\n",
       "      <th>5</th>\n",
       "      <td>2020-04-06</td>\n",
       "      <td>6-Apr</td>\n",
       "      <td>Monday</td>\n",
       "      <td>21:00</td>\n",
       "      <td>good</td>\n",
       "      <td>NaN</td>\n",
       "      <td>NaN</td>\n",
       "    </tr>\n",
       "    <tr>\n",
       "      <th>6</th>\n",
       "      <td>2020-04-06</td>\n",
       "      <td>6-Apr</td>\n",
       "      <td>Monday</td>\n",
       "      <td>7:06</td>\n",
       "      <td>good</td>\n",
       "      <td>learning | procrastinating | neutral work</td>\n",
       "      <td>NaN</td>\n",
       "    </tr>\n",
       "    <tr>\n",
       "      <th>7</th>\n",
       "      <td>2020-04-05</td>\n",
       "      <td>5-Apr</td>\n",
       "      <td>Sunday</td>\n",
       "      <td>22:28</td>\n",
       "      <td>good</td>\n",
       "      <td>NaN</td>\n",
       "      <td>NaN</td>\n",
       "    </tr>\n",
       "    <tr>\n",
       "      <th>8</th>\n",
       "      <td>2020-04-05</td>\n",
       "      <td>5-Apr</td>\n",
       "      <td>Sunday</td>\n",
       "      <td>7:55</td>\n",
       "      <td>good</td>\n",
       "      <td>NaN</td>\n",
       "      <td>NaN</td>\n",
       "    </tr>\n",
       "    <tr>\n",
       "      <th>9</th>\n",
       "      <td>2020-04-04</td>\n",
       "      <td>4-Apr</td>\n",
       "      <td>Saturday</td>\n",
       "      <td>22:55</td>\n",
       "      <td>good</td>\n",
       "      <td>learning | cooking | neutral work | scared</td>\n",
       "      <td>NaN</td>\n",
       "    </tr>\n",
       "  </tbody>\n",
       "</table>\n",
       "</div>"
      ],
      "text/plain": [
       "   full_date   date    weekday   time  mood  \\\n",
       "0 2020-04-09  9-Apr   Thursday   7:54   meh   \n",
       "1 2020-04-08  8-Apr  Wednesday  21:04   meh   \n",
       "2 2020-04-08  8-Apr  Wednesday   7:19  good   \n",
       "3 2020-04-07  7-Apr    Tuesday  21:25   meh   \n",
       "4 2020-04-07  7-Apr    Tuesday   7:09  good   \n",
       "5 2020-04-06  6-Apr     Monday  21:00  good   \n",
       "6 2020-04-06  6-Apr     Monday   7:06  good   \n",
       "7 2020-04-05  5-Apr     Sunday  22:28  good   \n",
       "8 2020-04-05  5-Apr     Sunday   7:55  good   \n",
       "9 2020-04-04  4-Apr   Saturday  22:55  good   \n",
       "\n",
       "                                   activities note  \n",
       "0                                         NaN  NaN  \n",
       "1                                dislike work  NaN  \n",
       "2                                neutral work  NaN  \n",
       "3                                dislike work  NaN  \n",
       "4                                         NaN  NaN  \n",
       "5                                         NaN  NaN  \n",
       "6   learning | procrastinating | neutral work  NaN  \n",
       "7                                         NaN  NaN  \n",
       "8                                         NaN  NaN  \n",
       "9  learning | cooking | neutral work | scared  NaN  "
      ]
     },
     "execution_count": 2,
     "metadata": {},
     "output_type": "execute_result"
    }
   ],
   "source": [
    "df = pd.read_csv(\"daylio_export_2020_04_09.csv\")\n",
    "\n",
    "#fixes full_date col\n",
    "def fix_date_string(date_string):\n",
    "    if len(date_string.split('/')[0]) == 1:\n",
    "        new_str = \"0\"+date_string\n",
    "    else:\n",
    "        new_str = date_string\n",
    "    return datetime.strptime(new_str, \"%d/%m/%Y\")\n",
    "df['full_date'] = df['full_date'].map(fix_date_string)\n",
    "\n",
    "df.head(10)"
   ]
  },
  {
   "cell_type": "markdown",
   "metadata": {},
   "source": [
    "Classify by morning or evening"
   ]
  },
  {
   "cell_type": "code",
   "execution_count": 3,
   "metadata": {},
   "outputs": [
    {
     "data": {
      "text/plain": [
       "Series([], Name: time, dtype: object)"
      ]
     },
     "execution_count": 3,
     "metadata": {},
     "output_type": "execute_result"
    }
   ],
   "source": [
    "def morning_or_night(time_str):\n",
    "    \"\"\"Lazy classification of time strings by morning or night, if len == 4 then string is before 10am, if len == 5 then its post 10am\"\"\"\n",
    "    if len(time_str) == 4:\n",
    "        return 'morning'\n",
    "    elif len(time_str) == 5:\n",
    "        return 'evening'\n",
    "    else:\n",
    "        return 'fail'\n",
    "\n",
    "#doesn't fail for any point\n",
    "df['time'].loc[df['time'].map(morning_or_night) == 'fail']"
   ]
  },
  {
   "cell_type": "code",
   "execution_count": 4,
   "metadata": {},
   "outputs": [],
   "source": [
    "df.loc[:,'morn_or_night'] = df['time'].map(morning_or_night)"
   ]
  },
  {
   "cell_type": "code",
   "execution_count": 5,
   "metadata": {},
   "outputs": [],
   "source": [
    "def work_status(activity_str):\n",
    "    activity_str = str(activity_str)\n",
    "    if \"dislike work\" in activity_str:\n",
    "        return 'dislike work'\n",
    "    elif \"neutral work\" in activity_str:\n",
    "        return 'neutral work'\n",
    "    elif 'like work' in activity_str:\n",
    "        return 'like work'\n",
    "    else:\n",
    "        return 'not reported'\n",
    "    \n",
    "df.loc[:,'work_status'] = df['activities'].map(work_status)"
   ]
  },
  {
   "cell_type": "code",
   "execution_count": 6,
   "metadata": {},
   "outputs": [
    {
     "data": {
      "text/html": [
       "<div>\n",
       "<style scoped>\n",
       "    .dataframe tbody tr th:only-of-type {\n",
       "        vertical-align: middle;\n",
       "    }\n",
       "\n",
       "    .dataframe tbody tr th {\n",
       "        vertical-align: top;\n",
       "    }\n",
       "\n",
       "    .dataframe thead th {\n",
       "        text-align: right;\n",
       "    }\n",
       "</style>\n",
       "<table border=\"1\" class=\"dataframe\">\n",
       "  <thead>\n",
       "    <tr style=\"text-align: right;\">\n",
       "      <th></th>\n",
       "      <th>full_date</th>\n",
       "      <th>date</th>\n",
       "      <th>weekday</th>\n",
       "      <th>time</th>\n",
       "      <th>mood</th>\n",
       "      <th>activities</th>\n",
       "      <th>note</th>\n",
       "      <th>morn_or_night</th>\n",
       "      <th>work_status</th>\n",
       "    </tr>\n",
       "  </thead>\n",
       "  <tbody>\n",
       "    <tr>\n",
       "      <th>0</th>\n",
       "      <td>2020-04-09</td>\n",
       "      <td>9-Apr</td>\n",
       "      <td>Thursday</td>\n",
       "      <td>7:54</td>\n",
       "      <td>meh</td>\n",
       "      <td>NaN</td>\n",
       "      <td>NaN</td>\n",
       "      <td>morning</td>\n",
       "      <td>not reported</td>\n",
       "    </tr>\n",
       "    <tr>\n",
       "      <th>1</th>\n",
       "      <td>2020-04-08</td>\n",
       "      <td>8-Apr</td>\n",
       "      <td>Wednesday</td>\n",
       "      <td>21:04</td>\n",
       "      <td>meh</td>\n",
       "      <td>dislike work</td>\n",
       "      <td>NaN</td>\n",
       "      <td>evening</td>\n",
       "      <td>dislike work</td>\n",
       "    </tr>\n",
       "    <tr>\n",
       "      <th>2</th>\n",
       "      <td>2020-04-08</td>\n",
       "      <td>8-Apr</td>\n",
       "      <td>Wednesday</td>\n",
       "      <td>7:19</td>\n",
       "      <td>good</td>\n",
       "      <td>neutral work</td>\n",
       "      <td>NaN</td>\n",
       "      <td>morning</td>\n",
       "      <td>neutral work</td>\n",
       "    </tr>\n",
       "    <tr>\n",
       "      <th>3</th>\n",
       "      <td>2020-04-07</td>\n",
       "      <td>7-Apr</td>\n",
       "      <td>Tuesday</td>\n",
       "      <td>21:25</td>\n",
       "      <td>meh</td>\n",
       "      <td>dislike work</td>\n",
       "      <td>NaN</td>\n",
       "      <td>evening</td>\n",
       "      <td>dislike work</td>\n",
       "    </tr>\n",
       "    <tr>\n",
       "      <th>4</th>\n",
       "      <td>2020-04-07</td>\n",
       "      <td>7-Apr</td>\n",
       "      <td>Tuesday</td>\n",
       "      <td>7:09</td>\n",
       "      <td>good</td>\n",
       "      <td>NaN</td>\n",
       "      <td>NaN</td>\n",
       "      <td>morning</td>\n",
       "      <td>not reported</td>\n",
       "    </tr>\n",
       "    <tr>\n",
       "      <th>...</th>\n",
       "      <td>...</td>\n",
       "      <td>...</td>\n",
       "      <td>...</td>\n",
       "      <td>...</td>\n",
       "      <td>...</td>\n",
       "      <td>...</td>\n",
       "      <td>...</td>\n",
       "      <td>...</td>\n",
       "      <td>...</td>\n",
       "    </tr>\n",
       "    <tr>\n",
       "      <th>564</th>\n",
       "      <td>2019-01-06</td>\n",
       "      <td>6-Jan</td>\n",
       "      <td>Sunday</td>\n",
       "      <td>22:45</td>\n",
       "      <td>good</td>\n",
       "      <td>NaN</td>\n",
       "      <td>NaN</td>\n",
       "      <td>evening</td>\n",
       "      <td>not reported</td>\n",
       "    </tr>\n",
       "    <tr>\n",
       "      <th>565</th>\n",
       "      <td>2019-01-06</td>\n",
       "      <td>6-Jan</td>\n",
       "      <td>Sunday</td>\n",
       "      <td>11:11</td>\n",
       "      <td>good</td>\n",
       "      <td>shopping</td>\n",
       "      <td>NaN</td>\n",
       "      <td>evening</td>\n",
       "      <td>not reported</td>\n",
       "    </tr>\n",
       "    <tr>\n",
       "      <th>566</th>\n",
       "      <td>2019-01-05</td>\n",
       "      <td>5-Jan</td>\n",
       "      <td>Saturday</td>\n",
       "      <td>11:57</td>\n",
       "      <td>good</td>\n",
       "      <td>good meal</td>\n",
       "      <td>NaN</td>\n",
       "      <td>evening</td>\n",
       "      <td>not reported</td>\n",
       "    </tr>\n",
       "    <tr>\n",
       "      <th>567</th>\n",
       "      <td>2019-01-04</td>\n",
       "      <td>4-Jan</td>\n",
       "      <td>Friday</td>\n",
       "      <td>23:31</td>\n",
       "      <td>good</td>\n",
       "      <td>sleeping</td>\n",
       "      <td>NaN</td>\n",
       "      <td>evening</td>\n",
       "      <td>not reported</td>\n",
       "    </tr>\n",
       "    <tr>\n",
       "      <th>568</th>\n",
       "      <td>2019-01-04</td>\n",
       "      <td>4-Jan</td>\n",
       "      <td>Friday</td>\n",
       "      <td>10:42</td>\n",
       "      <td>good</td>\n",
       "      <td>travel</td>\n",
       "      <td>NaN</td>\n",
       "      <td>evening</td>\n",
       "      <td>not reported</td>\n",
       "    </tr>\n",
       "  </tbody>\n",
       "</table>\n",
       "<p>569 rows × 9 columns</p>\n",
       "</div>"
      ],
      "text/plain": [
       "     full_date   date    weekday   time  mood    activities note  \\\n",
       "0   2020-04-09  9-Apr   Thursday   7:54   meh           NaN  NaN   \n",
       "1   2020-04-08  8-Apr  Wednesday  21:04   meh  dislike work  NaN   \n",
       "2   2020-04-08  8-Apr  Wednesday   7:19  good  neutral work  NaN   \n",
       "3   2020-04-07  7-Apr    Tuesday  21:25   meh  dislike work  NaN   \n",
       "4   2020-04-07  7-Apr    Tuesday   7:09  good           NaN  NaN   \n",
       "..         ...    ...        ...    ...   ...           ...  ...   \n",
       "564 2019-01-06  6-Jan     Sunday  22:45  good           NaN  NaN   \n",
       "565 2019-01-06  6-Jan     Sunday  11:11  good      shopping  NaN   \n",
       "566 2019-01-05  5-Jan   Saturday  11:57  good     good meal  NaN   \n",
       "567 2019-01-04  4-Jan     Friday  23:31  good      sleeping  NaN   \n",
       "568 2019-01-04  4-Jan     Friday  10:42  good        travel  NaN   \n",
       "\n",
       "    morn_or_night   work_status  \n",
       "0         morning  not reported  \n",
       "1         evening  dislike work  \n",
       "2         morning  neutral work  \n",
       "3         evening  dislike work  \n",
       "4         morning  not reported  \n",
       "..            ...           ...  \n",
       "564       evening  not reported  \n",
       "565       evening  not reported  \n",
       "566       evening  not reported  \n",
       "567       evening  not reported  \n",
       "568       evening  not reported  \n",
       "\n",
       "[569 rows x 9 columns]"
      ]
     },
     "execution_count": 6,
     "metadata": {},
     "output_type": "execute_result"
    }
   ],
   "source": [
    "df"
   ]
  },
  {
   "cell_type": "code",
   "execution_count": 7,
   "metadata": {},
   "outputs": [
    {
     "data": {
      "image/png": "[encoded data removed]",
      "text/plain": [
       "<Figure size 432x288 with 1 Axes>"
      ]
     },
     "metadata": {
      "needs_background": "light"
     },
     "output_type": "display_data"
    }
   ],
   "source": [
    "freq_table = {'like work': Counter(df.loc[df[\"activities\"].map(lambda x: \"dislike work\" in str(x)) == False][\"activities\"].map(lambda x: \"like work\" in str(x)))[True],\n",
    "             'neutral work': Counter(df[\"activities\"].map(lambda x: \"neutral work\" in str(x)) == True)[True],\n",
    "             'dislike work': Counter(df[\"activities\"].map(lambda x: \"dislike work\" in str(x)) == True)[True]}\n",
    "plt.bar(x=freq_table.keys(), height=freq_table.values())\n",
    "plt.title(\"How much I liked/disliked my job\")\n",
    "plt.xlabel(\"count of times I said that...\")\n",
    "plt.ylabel(\"count\")\n",
    "plt.show()"
   ]
  },
  {
   "cell_type": "code",
   "execution_count": 8,
   "metadata": {},
   "outputs": [
    {
     "name": "stdout",
     "output_type": "stream",
     "text": [
      "No work status recorded: 23\n",
      "Work status was recorded: 129\n"
     ]
    }
   ],
   "source": [
    "dfRelevantToWorkStatus = df[0:152]\n",
    "containsworkstatus_dict = Counter(dfRelevantToWorkStatus['activities'].map(lambda x: \"work\" in str(x)))\n",
    "print(\"No work status recorded: %.0f\"%(containsworkstatus_dict[False]))\n",
    "print(\"Work status was recorded: %.0f\"%(containsworkstatus_dict[True]))"
   ]
  },
  {
   "cell_type": "code",
   "execution_count": 9,
   "metadata": {},
   "outputs": [
    {
     "data": {
      "text/plain": [
       "152"
      ]
     },
     "execution_count": 9,
     "metadata": {},
     "output_type": "execute_result"
    }
   ],
   "source": [
    "len(dfRelevantToWorkStatus)"
   ]
  },
  {
   "cell_type": "code",
   "execution_count": 10,
   "metadata": {},
   "outputs": [
    {
     "data": {
      "text/plain": [
       "78"
      ]
     },
     "execution_count": 10,
     "metadata": {},
     "output_type": "execute_result"
    }
   ],
   "source": [
    "len(Counter(dfRelevantToWorkStatus['full_date']))"
   ]
  },
  {
   "cell_type": "code",
   "execution_count": 11,
   "metadata": {},
   "outputs": [
    {
     "name": "stdout",
     "output_type": "stream",
     "text": [
      "ratio of work status\n",
      "like work: 12 (0.09)\n",
      "neutral work: 87 (0.67)\n",
      "dislike work: 30 (0.23)\n"
     ]
    }
   ],
   "source": [
    "total = 12+87+30\n",
    "print(\"ratio of work status\")\n",
    "for key in freq_table.keys():\n",
    "    print(\"%s: %s (%.2f)\"%(key, freq_table[key], (freq_table[key]/total)))"
   ]
  },
  {
   "cell_type": "code",
   "execution_count": 12,
   "metadata": {},
   "outputs": [
    {
     "data": {
      "text/plain": [
       "129"
      ]
     },
     "execution_count": 12,
     "metadata": {},
     "output_type": "execute_result"
    }
   ],
   "source": [
    "12+87+30"
   ]
  },
  {
   "cell_type": "code",
   "execution_count": 13,
   "metadata": {},
   "outputs": [
    {
     "data": {
      "text/plain": [
       "152"
      ]
     },
     "execution_count": 13,
     "metadata": {},
     "output_type": "execute_result"
    }
   ],
   "source": [
    "23+129"
   ]
  },
  {
   "cell_type": "code",
   "execution_count": 14,
   "metadata": {},
   "outputs": [
    {
     "data": {
      "image/png": "[encoded data removed]",
      "text/plain": [
       "<Figure size 720x720 with 1 Axes>"
      ]
     },
     "metadata": {
      "needs_background": "light"
     },
     "output_type": "display_data"
    }
   ],
   "source": [
    "f, ax = plt.subplots(figsize=(10,10))\n",
    "\n",
    "ax.bar(x=list(freq_table.keys()), height=list(freq_table.values()))\n",
    "plt.title(\"How much I liked/disliked my job (23Jan2020 - 09Apr2020)\")\n",
    "plt.xlabel(\"count of times I said that...\")\n",
    "plt.ylabel(\"count\")\n",
    "\n",
    "ax.annotate('12 (0.09)', (-.15, 13), fontsize=14)\n",
    "ax.annotate('87 (0.67)', (0.85, 88), fontsize=14)\n",
    "ax.annotate('30 (0.23)', (1.85, 31), fontsize=14)\n",
    "\n",
    "plt.show()"
   ]
  },
  {
   "cell_type": "code",
   "execution_count": 15,
   "metadata": {},
   "outputs": [],
   "source": [
    "morning_work = dfRelevantToWorkStatus.loc[dfRelevantToWorkStatus['morn_or_night'] == 'morning']\n",
    "evening_work = dfRelevantToWorkStatus.loc[dfRelevantToWorkStatus['morn_or_night'] == 'evening']"
   ]
  },
  {
   "cell_type": "code",
   "execution_count": 29,
   "metadata": {},
   "outputs": [
    {
     "data": {
      "text/html": [
       "<div>\n",
       "<style scoped>\n",
       "    .dataframe tbody tr th:only-of-type {\n",
       "        vertical-align: middle;\n",
       "    }\n",
       "\n",
       "    .dataframe tbody tr th {\n",
       "        vertical-align: top;\n",
       "    }\n",
       "\n",
       "    .dataframe thead th {\n",
       "        text-align: right;\n",
       "    }\n",
       "</style>\n",
       "<table border=\"1\" class=\"dataframe\">\n",
       "  <thead>\n",
       "    <tr style=\"text-align: right;\">\n",
       "      <th>work_status</th>\n",
       "      <th>dislike work</th>\n",
       "      <th>like work</th>\n",
       "      <th>neutral work</th>\n",
       "      <th>not reported</th>\n",
       "      <th>All</th>\n",
       "    </tr>\n",
       "    <tr>\n",
       "      <th>morn_or_night</th>\n",
       "      <th></th>\n",
       "      <th></th>\n",
       "      <th></th>\n",
       "      <th></th>\n",
       "      <th></th>\n",
       "    </tr>\n",
       "  </thead>\n",
       "  <tbody>\n",
       "    <tr>\n",
       "      <th>evening</th>\n",
       "      <td>16</td>\n",
       "      <td>7</td>\n",
       "      <td>45</td>\n",
       "      <td>9</td>\n",
       "      <td>77</td>\n",
       "    </tr>\n",
       "    <tr>\n",
       "      <th>morning</th>\n",
       "      <td>14</td>\n",
       "      <td>5</td>\n",
       "      <td>42</td>\n",
       "      <td>14</td>\n",
       "      <td>75</td>\n",
       "    </tr>\n",
       "    <tr>\n",
       "      <th>All</th>\n",
       "      <td>30</td>\n",
       "      <td>12</td>\n",
       "      <td>87</td>\n",
       "      <td>23</td>\n",
       "      <td>152</td>\n",
       "    </tr>\n",
       "  </tbody>\n",
       "</table>\n",
       "</div>"
      ],
      "text/plain": [
       "work_status    dislike work  like work  neutral work  not reported  All\n",
       "morn_or_night                                                          \n",
       "evening                  16          7            45             9   77\n",
       "morning                  14          5            42            14   75\n",
       "All                      30         12            87            23  152"
      ]
     },
     "execution_count": 29,
     "metadata": {},
     "output_type": "execute_result"
    }
   ],
   "source": [
    "mornVSevening_twoway = pd.crosstab(dfRelevantToWorkStatus['morn_or_night'], dfRelevantToWorkStatus['work_status'], margins=True)\n",
    "mornVSevening_twoway"
   ]
  },
  {
   "cell_type": "code",
   "execution_count": null,
   "metadata": {},
   "outputs": [],
   "source": []
  },
  {
   "cell_type": "code",
   "execution_count": null,
   "metadata": {},
   "outputs": [],
   "source": []
  }
 ],
 "metadata": {
  "kernelspec": {
   "display_name": "Python 3",
   "language": "python",
   "name": "python3"
  },
  "language_info": {
   "codemirror_mode": {
    "name": "ipython",
    "version": 3
   },
   "file_extension": ".py",
   "mimetype": "text/x-python",
   "name": "python",
   "nbconvert_exporter": "python",
   "pygments_lexer": "ipython3",
   "version": "3.6.10"
  }
 },
 "nbformat": 4,
 "nbformat_minor": 4
}
